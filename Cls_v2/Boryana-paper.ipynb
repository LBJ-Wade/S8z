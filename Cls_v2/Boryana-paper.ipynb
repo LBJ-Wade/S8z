{
 "cells": [
  {
   "cell_type": "code",
   "execution_count": 1,
   "metadata": {
    "ExecuteTime": {
     "end_time": "2021-03-10T17:53:33.221973Z",
     "start_time": "2021-03-10T17:53:27.643286Z"
    }
   },
   "outputs": [],
   "source": [
    "from matplotlib import pyplot as plt\n",
    "import common as co\n",
    "import os\n",
    "import sacc\n",
    "import numpy as np\n",
    "from cl import Cl, Cl_fid, Field\n",
    "from cov import Cov\n",
    "from scipy.interpolate import interp1d\n",
    "from scipy import stats\n",
    "\n",
    "prop_cycle = plt.rcParams['axes.prop_cycle']\n",
    "colors = prop_cycle.by_key()['color']"
   ]
  },
  {
   "cell_type": "markdown",
   "metadata": {
    "heading_collapsed": true
   },
   "source": [
    "# Null test gc-sh"
   ]
  },
  {
   "cell_type": "code",
   "execution_count": 52,
   "metadata": {
    "ExecuteTime": {
     "end_time": "2021-03-04T17:38:04.335103Z",
     "start_time": "2021-03-04T17:38:04.330410Z"
    },
    "hidden": true
   },
   "outputs": [],
   "source": [
    "# These are the ell_cuts in the MCMC's:\n",
    "# https://github.com/carlosggarcia/montepython_public/blob/emilio/cl_cross_corr_params_v2/cl_cross_corr_v2_gcgc_gcwl_wlwl.yml\n",
    "ell_cuts = {'DESgc0': 145,\n",
    "            'DESgc1': 225,\n",
    "            'DESgc2': 298,\n",
    "            'DESgc3': 371,\n",
    "            'DESgc4': 435}\n",
    "\n",
    "def get_chi2(sCgng):\n",
    "    cl = sCgng.mean\n",
    "    dof = cl.size\n",
    "    cov = sCgng.covariance.covmat\n",
    "    chi2 = cl.dot(np.linalg.inv(cov)).dot(cl)\n",
    "    pte = 100 * (1 - stats.chi2.cdf(chi2, dof))\n",
    "    print(f'chi2 = {chi2:.1f}', f'dof = {dof}', f'PTE(%) ={pte:.1f}')"
   ]
  },
  {
   "cell_type": "code",
   "execution_count": 53,
   "metadata": {
    "ExecuteTime": {
     "end_time": "2021-03-04T17:38:11.170614Z",
     "start_time": "2021-03-04T17:38:05.995469Z"
    },
    "hidden": true
   },
   "outputs": [
    {
     "name": "stdout",
     "output_type": "stream",
     "text": [
      "Full\n",
      "chi2 = 722.7 dof = 780 PTE(%) =92.9\n",
      "Cut \n",
      "chi2 = 176.4 dof = 188 PTE(%) =71.8\n"
     ]
    }
   ],
   "source": [
    "# sCgng = sacc.Sacc.load_fits('/mnt/extraspace/gravityls_3/S8z/Cls_2/4096_asDavid_recompute_newfid/cls_covG_covNG_DESgc_DESwl.fits')\n",
    "\n",
    "# # Remove all dtypes except for gc-sh (B-modes)\n",
    "# ell, _ = sCgng.get_ell_cl('cl_00', tracer1='DESgc0', tracer2='DESgc0')\n",
    "# tracers = sCgng.get_tracer_combinations(data_type='cl_0b')\n",
    "\n",
    "# for dtype in sCgng.get_data_types():\n",
    "#     if dtype != 'cl_0b':    \n",
    "#         sCgng.remove_selection(data_type=dtype)\n",
    "    \n",
    "# assert sCgng.mean.size, ell.size * len(tracers)\n",
    "# assert sCgng.get_tracer_combinations() == tracers\n",
    "\n",
    "# # Only scales in the MCMC\n",
    "# sCgng_cuts = sCgng.copy()\n",
    "# for tr1, tr2 in tracers:\n",
    "#     ell_cut = ell_cuts[tr1]\n",
    "#     sCgng_cuts.remove_selection(data_type='cl_0b', tracers=(tr1, tr2), ell__gt=ell_cut)\n",
    "    \n",
    "print('Full')\n",
    "get_chi2(sCgng)\n",
    "print('Cut ')\n",
    "get_chi2(sCgng_cuts)"
   ]
  },
  {
   "cell_type": "markdown",
   "metadata": {
    "heading_collapsed": true
   },
   "source": [
    "# Noise marginalization"
   ]
  },
  {
   "cell_type": "code",
   "execution_count": 2,
   "metadata": {
    "ExecuteTime": {
     "end_time": "2021-02-24T16:01:03.680491Z",
     "start_time": "2021-02-24T15:59:47.795125Z"
    },
    "hidden": true
   },
   "outputs": [],
   "source": [
    "sCgng = sacc.Sacc.load_fits('/mnt/extraspace/gravityls_3/S8z/Cls_2/4096_asDavid_recompute_newfid/cls_covG_covNG_DESgc_DESwl.fits')\n",
    "sCng = sacc.Sacc.load_fits('/mnt/extraspace/gravityls_3/S8z/Cls_2/4096_asDavid_recompute_newfid/nls_covNG.fits')"
   ]
  },
  {
   "cell_type": "code",
   "execution_count": 3,
   "metadata": {
    "ExecuteTime": {
     "end_time": "2021-02-24T16:03:00.580117Z",
     "start_time": "2021-02-24T16:02:41.439231Z"
    },
    "hidden": true
   },
   "outputs": [],
   "source": [
    "sCgng_marg = sCgng.copy()"
   ]
  },
  {
   "cell_type": "code",
   "execution_count": 15,
   "metadata": {
    "ExecuteTime": {
     "end_time": "2021-02-24T16:10:21.230143Z",
     "start_time": "2021-02-24T16:10:21.226748Z"
    },
    "hidden": true
   },
   "outputs": [
    {
     "name": "stdout",
     "output_type": "stream",
     "text": [
      "[ 0  1  2  3  4  5  6  7  8  9 10 11 12 13 14 15 16 17 18 19 20 21 22 23\n",
      " 24 25 26 27 28 29 30 31 32 33 34 35 36 37 38]\n"
     ]
    }
   ],
   "source": [
    "ix = sCgng_marg.indices(data_type='cl_00', tracers=('DESgc0', 'DESgc0'))\n",
    "print(ix)"
   ]
  },
  {
   "cell_type": "code",
   "execution_count": 12,
   "metadata": {
    "ExecuteTime": {
     "end_time": "2021-02-24T16:08:37.267840Z",
     "start_time": "2021-02-24T16:08:37.263008Z"
    },
    "hidden": true
   },
   "outputs": [
    {
     "name": "stdout",
     "output_type": "stream",
     "text": [
      "(39,)\n",
      "True\n"
     ]
    }
   ],
   "source": [
    "i = 0\n",
    "trs = (f'DESgc{i}', f'DESgc{i}')\n",
    "ell, nl = sCng.get_ell_cl(data_type='cl_00', tracer1=trs[0], tracer2=trs[1])\n",
    "print(nl.shape)\n",
    "print(np.all(nl[:, None] * nl[None, :] == nl[None, :] * nl[:, None]))\n",
    "ell, cl, cov = sCgng_marg.get_ell_cl(data_type='cl_00', tracer1=trs[0], tracer2=trs[1], return_cov=True)\n",
    "print(np.all(sCgng_marg.covariance.covmat[np.ix_(ix, ix)] == sCgng_marg.covariance.covmat[ix, :][:, ix]))\n",
    "print(np.all(sCgng_marg.covariance.covmat[np.ix_(ix, ix)] == cov))"
   ]
  },
  {
   "cell_type": "code",
   "execution_count": 27,
   "metadata": {
    "ExecuteTime": {
     "end_time": "2021-02-24T16:16:31.515468Z",
     "start_time": "2021-02-24T16:16:18.710124Z"
    },
    "hidden": true
   },
   "outputs": [],
   "source": [
    "# Uncomment to produce GNG + marginalized\n",
    "\n",
    "# sigma = 0.1\n",
    "# for i in range(5):\n",
    "#     trs = (f'DESgc{i}', f'DESgc{i}')\n",
    "#     ix = sCgng_marg.indices(data_type='cl_00', tracers=trs)\n",
    "#     _, _, cov = sCgng.get_ell_cl(data_type='cl_00', tracer1=trs[0], tracer2=trs[1], return_cov=True)\n",
    "#     ell, nl = sCng.get_ell_cl(data_type='cl_00', tracer1=trs[0], tracer2=trs[1])\n",
    "#     cov_marg = sigma**2 * nl[:, None] * nl[None, :]\n",
    "#     sCgng_marg.covariance.covmat[np.ix_(ix, ix)] += cov_marg\n",
    "    \n",
    "#     _, _, cov2 = sCgng_marg.get_ell_cl(data_type='cl_00', tracer1=trs[0], tracer2=trs[1], return_cov=True)\n",
    "#     assert np.all(cov2 == cov_marg + cov)\n",
    "# sCgng_marg.save_fits('/mnt/extraspace/gravityls_3/S8z/Cls_2/4096_asDavid_recompute_newfid/cls_covG_covNG_DESgc_DESwl_SNMarginalized.fits')"
   ]
  },
  {
   "cell_type": "code",
   "execution_count": 29,
   "metadata": {
    "ExecuteTime": {
     "end_time": "2021-02-24T16:20:20.623774Z",
     "start_time": "2021-02-24T16:18:46.929631Z"
    },
    "hidden": true
   },
   "outputs": [],
   "source": [
    "sCgng_marg = sacc.Sacc.load_fits('/mnt/extraspace/gravityls_3/S8z/Cls_2/4096_asDavid_recompute_newfid/cls_covG_covNG_DESgc_DESwl_SNMarginalized.fits')\n",
    "for i in range(5):\n",
    "    trs = (f'DESgc{i}', f'DESgc{i}')\n",
    "    ix = sCgng_marg.indices(data_type='cl_00', tracers=trs)\n",
    "    _, _, cov = sCgng.get_ell_cl(data_type='cl_00', tracer1=trs[0], tracer2=trs[1], return_cov=True)\n",
    "    ell, nl = sCng.get_ell_cl(data_type='cl_00', tracer1=trs[0], tracer2=trs[1])\n",
    "    cov_marg = sigma**2 * nl[:, None] * nl[None, :]\n",
    "    \n",
    "    _, _, cov2 = sCgng_marg.get_ell_cl(data_type='cl_00', tracer1=trs[0], tracer2=trs[1], return_cov=True)\n",
    "    assert np.all(cov2 == cov_marg + cov)"
   ]
  },
  {
   "cell_type": "code",
   "execution_count": null,
   "metadata": {
    "hidden": true
   },
   "outputs": [],
   "source": []
  },
  {
   "cell_type": "markdown",
   "metadata": {},
   "source": [
    "# Fake data with h=0.8"
   ]
  },
  {
   "cell_type": "code",
   "execution_count": 19,
   "metadata": {
    "ExecuteTime": {
     "end_time": "2021-03-10T18:20:40.792010Z",
     "start_time": "2021-03-10T18:18:40.793594Z"
    }
   },
   "outputs": [],
   "source": [
    "sCgng_marg = sacc.Sacc.load_fits('/mnt/extraspace/gravityls_3/S8z/Cls_2/4096_asDavid_recompute_newfid/cls_covG_covNG_DESgc_DESwl_SNMarginalized.fits')\n",
    "sFid = sacc.Sacc.load_fits('/mnt/extraspace/gravityls_3/S8z/Cls_2/4096_asDavid_recompute_newfid_H080/clsFid_covG_DESonly.fits')\n",
    "sFidOld = sacc.Sacc.load_fits('/mnt/extraspace/gravityls_3/S8z/Cls_2/4096_asDavid/clfid_covG.fits')"
   ]
  },
  {
   "cell_type": "code",
   "execution_count": 5,
   "metadata": {
    "ExecuteTime": {
     "end_time": "2021-03-10T18:02:57.369105Z",
     "start_time": "2021-03-10T18:02:57.361192Z"
    }
   },
   "outputs": [
    {
     "data": {
      "text/plain": [
       "True"
      ]
     },
     "execution_count": 5,
     "metadata": {},
     "output_type": "execute_result"
    }
   ],
   "source": [
    "sCgng_marg.get_tracer_combinations() == sFid.get_tracer_combinations()"
   ]
  },
  {
   "cell_type": "code",
   "execution_count": 13,
   "metadata": {
    "ExecuteTime": {
     "end_time": "2021-03-10T18:08:34.834565Z",
     "start_time": "2021-03-10T18:08:12.916319Z"
    }
   },
   "outputs": [],
   "source": [
    "mean = sFid.mean\n",
    "cov = sCgng_marg.covariance.covmat\n",
    "# noisy_mean = stats.multivariate_normal(mean, cov, allow_singular=True).rvs()\n",
    "noisy_mean = np.random.multivariate_normal(mean, cov)"
   ]
  },
  {
   "cell_type": "code",
   "execution_count": 14,
   "metadata": {
    "ExecuteTime": {
     "end_time": "2021-03-10T18:10:34.399476Z",
     "start_time": "2021-03-10T18:10:18.776112Z"
    }
   },
   "outputs": [],
   "source": [
    "sFakeData = sFid.copy()\n",
    "sFakeData.mean = noisy_mean\n",
    "sFakeData.covariance.covmat = cov\n",
    "sFakeData.save_fits('/mnt/extraspace/gravityls_3/S8z/Cls_2/4096_asDavid_recompute_newfid_H080/clsFakeData_covG_covNG_DESonly_SNMarginalized.fits')"
   ]
  },
  {
   "cell_type": "code",
   "execution_count": 25,
   "metadata": {
    "ExecuteTime": {
     "end_time": "2021-03-10T18:23:53.422841Z",
     "start_time": "2021-03-10T18:23:52.871375Z"
    }
   },
   "outputs": [
    {
     "data": {
      "image/png": "[encoded data removed]",
      "text/plain": [
       "<Figure size 432x288 with 1 Axes>"
      ]
     },
     "metadata": {
      "needs_background": "light"
     },
     "output_type": "display_data"
    }
   ],
   "source": [
    "tr1 = 'DESgc3'\n",
    "tr2 = 'DESwl2'\n",
    "dtype = 'cl_0e'\n",
    "#\n",
    "ell, cl = sFid.get_ell_cl(dtype, tr1, tr2)\n",
    "plt.loglog(ell, cl, label='Fid H0=80')\n",
    "#\n",
    "ell, cl = sFidOld.get_ell_cl(dtype, tr1, tr2)\n",
    "plt.loglog(ell, cl, label='Fid H0=67')\n",
    "#\n",
    "ell, cl, cov = sFakeData.get_ell_cl(dtype, tr1, tr2, return_cov=True)\n",
    "err = np.sqrt(np.diag(cov))\n",
    "plt.errorbar(ell, cl, yerr=err, label='Fake data')\n",
    "#\n",
    "plt.legend(loc=0)\n",
    "plt.title(tr1 + '-' + tr2)\n",
    "plt.xlabel(r'$\\ell$')\n",
    "plt.ylabel(r'$C_\\ell$')\n",
    "plt.show()\n",
    "plt.close()"
   ]
  },
  {
   "cell_type": "code",
   "execution_count": null,
   "metadata": {},
   "outputs": [],
   "source": []
  }
 ],
 "metadata": {
  "hide_input": false,
  "kernelspec": {
   "display_name": "Python 3",
   "language": "python",
   "name": "python3"
  },
  "language_info": {
   "codemirror_mode": {
    "name": "ipython",
    "version": 3
   },
   "file_extension": ".py",
   "mimetype": "text/x-python",
   "name": "python",
   "nbconvert_exporter": "python",
   "pygments_lexer": "ipython3",
   "version": "3.6.9"
  },
  "latex_envs": {
   "LaTeX_envs_menu_present": true,
   "autoclose": true,
   "autocomplete": true,
   "bibliofile": "biblio.bib",
   "cite_by": "apalike",
   "current_citInitial": 1,
   "eqLabelWithNumbers": true,
   "eqNumInitial": 1,
   "hotkeys": {
    "equation": "Ctrl-E",
    "itemize": "Ctrl-I"
   },
   "labels_anchors": false,
   "latex_user_defs": false,
   "report_style_numbering": false,
   "user_envs_cfg": false
  },
  "toc": {
   "base_numbering": 1,
   "nav_menu": {},
   "number_sections": true,
   "sideBar": true,
   "skip_h1_title": false,
   "title_cell": "Table of Contents",
   "title_sidebar": "Contents",
   "toc_cell": false,
   "toc_position": {},
   "toc_section_display": true,
   "toc_window_display": false
  },
  "varInspector": {
   "cols": {
    "lenName": 16,
    "lenType": 16,
    "lenVar": 40
   },
   "kernels_config": {
    "python": {
     "delete_cmd_postfix": "",
     "delete_cmd_prefix": "del ",
     "library": "var_list.py",
     "varRefreshCmd": "print(var_dic_list())"
    },
    "r": {
     "delete_cmd_postfix": ") ",
     "delete_cmd_prefix": "rm(",
     "library": "var_list.r",
     "varRefreshCmd": "cat(var_dic_list()) "
    }
   },
   "types_to_exclude": [
    "module",
    "function",
    "builtin_function_or_method",
    "instance",
    "_Feature"
   ],
   "window_display": false
  }
 },
 "nbformat": 4,
 "nbformat_minor": 4
}
