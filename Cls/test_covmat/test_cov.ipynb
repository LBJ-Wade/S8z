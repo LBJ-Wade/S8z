{
 "cells": [
  {
   "cell_type": "code",
   "execution_count": 1,
   "metadata": {},
   "outputs": [],
   "source": [
    "import numpy as np\n",
    "from matplotlib import pyplot as plt\n",
    "from scipy import stats\n",
    "import sys"
   ]
  },
  {
   "cell_type": "code",
   "execution_count": 2,
   "metadata": {},
   "outputs": [],
   "source": [
    "# Functions from PCLCovariance project\n",
    "# https://github.com/damonge/PCLCovariance/blob/master/notebooks/common.py\n",
    "FIGSIZE = (4, 3)\n",
    "def plot_chi2(chi2s, labels, lmax, bins=60, foutput=None):\n",
    "    \"Copied from https://github.com/damonge/PCLCovariance/blob/master/notebooks/common.py\"\n",
    "    f, ax = plt.subplots(1, 1, figsize=FIGSIZE)\n",
    "    _, x, _ = ax.hist(chi2s, bins=bins, histtype='step', density=True, label=labels)\n",
    "\n",
    "    ax.plot(x[:-1], stats.chi2.pdf(x[:-1], lmax), ls='--', label=r'$\\chi^2$ pdf')\n",
    "\n",
    "    ax.set_xlabel(r'$\\chi^2$')\n",
    "    ax.set_ylabel('pdf')\n",
    "\n",
    "    ax.legend(loc=0)\n",
    "    plt.tight_layout()\n",
    "    if foutput is not None:\n",
    "        fname = foutput + '_chi2'\n",
    "        plt.savefig(fname, dpi=DPI)\n",
    "    plt.show()\n",
    "    plt.close()"
   ]
  },
  {
   "cell_type": "code",
   "execution_count": 4,
   "metadata": {},
   "outputs": [],
   "source": [
    "CovSims = np.load('sims/run_gc0gc0_covSims_0001-0100.npz')['arr_0']\n",
    "CovTh = np.load('sims/run_gc0gc0_covTh.npz')['arr_0']\n",
    "# CovTh = np.load('/mnt/extraspace/gravityls_3/S8z/Cls/all_together/new_fiducial_cov/cov_DESgc0_DESgc0_DESgc0_DESgc0.npz')['arr_0']\n",
    "\n",
    "iCovSims = np.linalg.inv(CovSims)\n",
    "iCovTh = np.linalg.inv(CovTh)\n",
    "\n",
    "gc0gc0 = np.load('sims/run_gc0gc0_clsims_0001-0100.npz')\n",
    "ells = gc0gc0['l']\n",
    "cls_sims = gc0gc0['cl00'][:, 0, :]\n",
    "nsims = cls_sims.shape[0]\n",
    "cls_sims_mean = np.mean(cls_sims, axis=0)"
   ]
  },
  {
   "cell_type": "code",
   "execution_count": 5,
   "metadata": {},
   "outputs": [],
   "source": [
    "chi2_sims = np.ones(nsims) * (-1)\n",
    "chi2_Th = np.ones(nsims) * (-1)\n",
    "\n",
    "for i in range(nsims):\n",
    "    delta = cls_sims[i] - cls_sims_mean\n",
    "    chi2_sims[i] = (delta).dot(iCovSims).dot(delta)\n",
    "    chi2_Th[i] = (delta).dot(iCovTh).dot(delta)"
   ]
  },
  {
   "cell_type": "code",
   "execution_count": 8,
   "metadata": {},
   "outputs": [
    {
     "data": {
      "image/png": "[encoded data removed]",
      "text/plain": [
       "<Figure size 288x216 with 1 Axes>"
      ]
     },
     "metadata": {
      "needs_background": "light"
     },
     "output_type": "display_data"
    }
   ],
   "source": [
    "plot_chi2([chi2_sims, chi2_Th], ['Simulations', 'NaMaster'], ells.size)"
   ]
  },
  {
   "cell_type": "code",
   "execution_count": null,
   "metadata": {},
   "outputs": [],
   "source": []
  }
 ],
 "metadata": {
  "kernelspec": {
   "display_name": "Python 3",
   "language": "python",
   "name": "python3"
  },
  "language_info": {
   "codemirror_mode": {
    "name": "ipython",
    "version": 3
   },
   "file_extension": ".py",
   "mimetype": "text/x-python",
   "name": "python",
   "nbconvert_exporter": "python",
   "pygments_lexer": "ipython3",
   "version": "3.6.9"
  },
  "latex_envs": {
   "LaTeX_envs_menu_present": true,
   "autoclose": true,
   "autocomplete": true,
   "bibliofile": "biblio.bib",
   "cite_by": "apalike",
   "current_citInitial": 1,
   "eqLabelWithNumbers": true,
   "eqNumInitial": 1,
   "hotkeys": {
    "equation": "Ctrl-E",
    "itemize": "Ctrl-I"
   },
   "labels_anchors": false,
   "latex_user_defs": false,
   "report_style_numbering": false,
   "user_envs_cfg": false
  },
  "toc": {
   "base_numbering": 1,
   "nav_menu": {},
   "number_sections": true,
   "sideBar": true,
   "skip_h1_title": false,
   "title_cell": "Table of Contents",
   "title_sidebar": "Contents",
   "toc_cell": false,
   "toc_position": {},
   "toc_section_display": true,
   "toc_window_display": false
  },
  "varInspector": {
   "cols": {
    "lenName": 16,
    "lenType": 16,
    "lenVar": 40
   },
   "kernels_config": {
    "python": {
     "delete_cmd_postfix": "",
     "delete_cmd_prefix": "del ",
     "library": "var_list.py",
     "varRefreshCmd": "print(var_dic_list())"
    },
    "r": {
     "delete_cmd_postfix": ") ",
     "delete_cmd_prefix": "rm(",
     "library": "var_list.r",
     "varRefreshCmd": "cat(var_dic_list()) "
    }
   },
   "types_to_exclude": [
    "module",
    "function",
    "builtin_function_or_method",
    "instance",
    "_Feature"
   ],
   "window_display": false
  }
 },
 "nbformat": 4,
 "nbformat_minor": 4
}
